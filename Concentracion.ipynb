{
 "cells": [
  {
   "cell_type": "code",
   "execution_count": null,
   "id": "2a90c33c",
   "metadata": {},
   "outputs": [
    {
     "name": "stdout",
     "output_type": "stream",
     "text": [
      "Concentración: 5.77e-04 M\n"
     ]
    }
   ],
   "source": [
    "# ppm a mg/L\n",
    "# mg a g\n",
    "# g a moles (dividiendo por la masa molar)\n",
    "# Como es por litro, eso es la molaridad\n",
    "# Multiplicar por el numero de moles del elemento  por cada compuesto\n",
    "\n",
    "\n",
    "def concentracionenppm(ppm, masamolar, molesenelcompuesto):\n",
    "\n",
    "\n",
    "   \n",
    "    # Paso 1: Convertir ppm a gramos por litro\n",
    "    gramosporlitro = ppm / 1000  \n",
    "\n",
    "    # Paso 2: Convertir a moles del compuesto por litro\n",
    "    molesporlitro = gramosporlitro / masamolar #MOLARIDAD\n",
    "\n",
    "    # Paso 3: Calcular moles del ion por litro\n",
    "    concentracion = molesporlitro * molesenelcompuesto\n",
    "\n",
    "    return concentracion\n",
    "\n",
    "# Datos del problema original\n",
    "ppm = 63.3\n",
    "masamolar = 329.3 \n",
    "molesenelcompuesto = 3   \n",
    "\n",
    "\n",
    "# Calcular concentración molar del elemento\n",
    "concentracion = concentracionenppm(ppm, masamolar, molesenelcompuesto)\n",
    "print(f\"Concentración: {concentracion:.2e} M\")\n",
    "\n"
   ]
  },
  {
   "cell_type": "code",
   "execution_count": null,
   "id": "4905305b",
   "metadata": {},
   "outputs": [],
   "source": []
  }
 ],
 "metadata": {
  "kernelspec": {
   "display_name": "bioinformatica_py",
   "language": "python",
   "name": "python3"
  },
  "language_info": {
   "codemirror_mode": {
    "name": "ipython",
    "version": 3
   },
   "file_extension": ".py",
   "mimetype": "text/x-python",
   "name": "python",
   "nbconvert_exporter": "python",
   "pygments_lexer": "ipython3",
   "version": "3.12.9"
  }
 },
 "nbformat": 4,
 "nbformat_minor": 5
}
