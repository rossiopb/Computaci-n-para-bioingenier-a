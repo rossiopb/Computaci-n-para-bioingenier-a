{
 "cells": [
  {
   "cell_type": "code",
   "execution_count": null,
   "id": "770c3cd6",
   "metadata": {},
   "outputs": [
    {
     "name": "stdout",
     "output_type": "stream",
     "text": [
      "❌ makeblastdb no está instalado o no está en el PATH.\n",
      "Descarga BLAST+ desde: https://ftp.ncbi.nlm.nih.gov/blast/executables/blast+/LATEST/\n"
     ]
    }
   ],
   "source": [
    "import subprocess\n",
    "import os\n",
    "\n",
    "# 1. Definir rutas\n",
    "input_fasta = r\"C:\\Tareas002\\VIRUS\\todas_las_secuencias.fasta\"    # Asegúrate de que este archivo exista\n",
    "db_name = \"virus_db\"                     # Nombre de la base de datos\n",
    "\n",
    "# 2. Verificar que el archivo FASTA existe\n",
    "if not os.path.exists(input_fasta):\n",
    "    raise FileNotFoundError(f\"¡El archivo {input_fasta} no existe!\")\n",
    "\n",
    "# 3. Comando para crear la DB (usando subprocess)\n",
    "try:\n",
    "    subprocess.run(\n",
    "        [\n",
    "            \"makeblastdb\",          # Nombre del ejecutable de BLAST+\n",
    "            \"-in\", input_fasta,     # Archivo de entrada\n",
    "            \"-dbtype\", \"nucl\",      # \"nucl\" para ADN/ARN, \"prot\" para proteínas\n",
    "            \"-out\", db_name,        # Nombre de la DB\n",
    "            \"-parse_seqids\"         # Conserva los IDs originales\n",
    "        ],\n",
    "        check=True,  # Lanza error si el comando falla\n",
    "        capture_output=True,\n",
    "        text=True\n",
    "    )\n",
    "    print(f\"¡Base de datos '{db_name}' creada con éxito!\")\n",
    "    print(f\"Archivos generados: {db_name}.nsq, {db_name}.nin, etc.\")\n",
    "\n",
    "except subprocess.CalledProcessError as e:\n",
    "    print(\"Error al crear la base de datos:\")\n",
    "    print(f\"STDOUT: {e.stdout}\")\n",
    "    print(f\"STDERR: {e.stderr}\")\n",
    "except FileNotFoundError:\n",
    "    print(\"makeblastdb no está instalado o no está en el PATH.\")\n",
    "    print(\"Descarga BLAST+ desde: https://ftp.ncbi.nlm.nih.gov/blast/executables/blast+/LATEST/\")"
   ]
  },
  {
   "cell_type": "code",
   "execution_count": null,
   "id": "932e4908",
   "metadata": {},
   "outputs": [],
   "source": []
  }
 ],
 "metadata": {
  "kernelspec": {
   "display_name": "bioinformatica_py",
   "language": "python",
   "name": "python3"
  },
  "language_info": {
   "codemirror_mode": {
    "name": "ipython",
    "version": 3
   },
   "file_extension": ".py",
   "mimetype": "text/x-python",
   "name": "python",
   "nbconvert_exporter": "python",
   "pygments_lexer": "ipython3",
   "version": "3.12.9"
  }
 },
 "nbformat": 4,
 "nbformat_minor": 5
}
