{
 "cells": [
  {
   "cell_type": "code",
   "execution_count": 4,
   "id": "cbcbe3b2",
   "metadata": {},
   "outputs": [
    {
     "name": "stdout",
     "output_type": "stream",
     "text": [
      "[Compound(24436), Compound(71373), Compound(516914), Compound(139036570), Compound(71309928), Compound(160252183), Compound(172420059), Compound(23615455), Compound(71309783), Compound(174961751)]\n",
      "[O-]S(=O)(=O)[O-].[Na+].[Na+]\n"
     ]
    }
   ],
   "source": [
    "import pubchempy as pcp \n",
    "from rdkit import Chem\n",
    "compuesto = pcp.get_compounds('Na2SO4','formula')\n",
    "print(compuesto)\n",
    "print(compuesto[0].isomeric_smiles)"
   ]
  },
  {
   "cell_type": "code",
   "execution_count": null,
   "id": "0a9e071b",
   "metadata": {},
   "outputs": [
    {
     "name": "stdout",
     "output_type": "stream",
     "text": [
      "141.93126804\n",
      "Masa d Na según RDKIT: 8.10 g\n"
     ]
    }
   ],
   "source": [
    "import pubchempy as pcp \n",
    "from rdkit import Chem\n",
    "from rdkit.Chem import rdMolDescriptors\n",
    "mol_Na2SO4 = Chem.MolFromSmiles (compuesto[0].isomeric_smiles)\n",
    "\n",
    "#CALCULAR MASA MOLECULAR EXACTA \n",
    "masamolecularexacta_Na2SO4 = rdMolDescriptors.CalcExactMolWt(mol_Na2SO4)\n",
    "print(masamolecularexacta_Na2SO4)\n",
    "\n",
    "\n",
    "\n",
    "masa_Na2SO4=25 #MASA A CALCULAR\n",
    "moles_Na2SO4=masa_Na2SO4/masamolecularexacta_Na2SO4\n",
    "moles_Na=moles_Na2SO4 * 2 #numero de moles 2\n",
    "masa_Na = moles_Na*22.99\n",
    "\n",
    "print(f\"Masa de Na según RDKIT: {masa_Na:.2f} g\")\n"
   ]
  },
  {
   "cell_type": "code",
   "execution_count": 7,
   "id": "d2cb8440",
   "metadata": {},
   "outputs": [
    {
     "name": "stdout",
     "output_type": "stream",
     "text": [
      "Masa de K en 20 g de KNO3: 7.75 g\n"
     ]
    }
   ],
   "source": [
    "import pubchempy as pcp\n",
    "from rdkit import Chem\n",
    "from rdkit.Chem import rdMolDescriptors\n",
    "\n",
    "def calcular_masa_elemento(formula, elemento, masa_compuesto):\n",
    "    # Obtener información del compuesto\n",
    "    compuesto = pcp.get_compounds('KNO3', 'formula')[0]\n",
    "    smiles = compuesto.isomeric_smiles\n",
    "\n",
    "    # Crear objeto mol con RDKit\n",
    "    mol = Chem.MolFromSmiles(smiles)\n",
    "\n",
    "    # Calcular masa molar exacta del compuesto\n",
    "    masa_molar = rdMolDescriptors.CalcExactMolWt(mol)\n",
    "\n",
    "    # Calcular moles del compuesto en la masa dada\n",
    "    moles_compuesto = masa_compuesto / masa_molar\n",
    "\n",
    "    # Contar átomos del elemento en la fórmula\n",
    "    atom_count = {}\n",
    "    for atom in mol.GetAtoms():\n",
    "        symbol = atom.GetSymbol()\n",
    "        atom_count[symbol] = atom_count.get(symbol, 0) + 1\n",
    "\n",
    "    # Verificar si el elemento está presente\n",
    "    if elemento not in atom_count:\n",
    "        raise ValueError(f\"El elemento '{elemento}' no está en el compuesto.\")\n",
    "\n",
    "    # Obtener masa atómica del elemento (puede usar tabla interna o pcp)\n",
    "    from periodictable import elements\n",
    "    masa_atomica_elemento = getattr(elements, elemento).mass\n",
    "\n",
    "    # Calcular masa total del elemento en la muestra\n",
    "    masa_elemento_total = moles_compuesto * atom_count[elemento] * masa_atomica_elemento\n",
    "\n",
    "    return masa_elemento_total\n",
    "\n",
    "# === PARÁMETROS DE ENTRADA ===\n",
    "formula = \"KNO3\"\n",
    "elemento = \"K\"\n",
    "masa_compuesto = 20  # gramos compuesto\n",
    "\n",
    "masa_elemento = calcular_masa_elemento(formula, elemento, masa_compuesto)\n",
    "print(f\"Masa de {elemento} en {masa_compuesto} g de {formula}: {masa_elemento:.2f} g\")\n"
   ]
  },
  {
   "cell_type": "code",
   "execution_count": null,
   "id": "7ad6236f",
   "metadata": {},
   "outputs": [],
   "source": []
  }
 ],
 "metadata": {
  "kernelspec": {
   "display_name": "bioinformatica_py",
   "language": "python",
   "name": "python3"
  },
  "language_info": {
   "codemirror_mode": {
    "name": "ipython",
    "version": 3
   },
   "file_extension": ".py",
   "mimetype": "text/x-python",
   "name": "python",
   "nbconvert_exporter": "python",
   "pygments_lexer": "ipython3",
   "version": "3.12.9"
  }
 },
 "nbformat": 4,
 "nbformat_minor": 5
}
