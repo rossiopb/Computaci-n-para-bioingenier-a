{
 "cells": [
  {
   "cell_type": "code",
   "execution_count": 1,
   "id": "83cc09e0",
   "metadata": {},
   "outputs": [],
   "source": [
    "import shlex \n",
    "import subprocess\n",
    "import matplotlib as mpl \n",
    "import matplotlib.pyplot as plt \n"
   ]
  },
  {
   "cell_type": "code",
   "execution_count": 3,
   "id": "dec77b94",
   "metadata": {},
   "outputs": [],
   "source": [
    "# Matplotlib configuration\n",
    "mpl.rcParams.update(mpl.rcParamsDefault)\n",
    "# mpl.rc_file('../../matplotlibrc', use_default_template=False)"
   ]
  },
  {
   "cell_type": "code",
   "execution_count": 4,
   "id": "6fbd56d4",
   "metadata": {},
   "outputs": [
    {
     "name": "stdout",
     "output_type": "stream",
     "text": [
      "HEADER    SUGAR BINDING PROTEIN                   08-OCT-10   3P5G\n",
      "TITLE     STRUCTURE OF THE CARBOHYDRATE-RECOGNITION DOMAIN OF HUMAN LANGERIN\n",
      "TITLE    2 WITH BLOOD GROUP B TRISACCHARIDE (GAL ALPHA1-3(FUC ALPHA1-2)GAL)\n",
      "COMPND    MOL_ID: 1;\n",
      "COMPND   2 MOLECULE: C-TYPE LECTIN DOMAIN FAMILY 4 MEMBER K;\n",
      "COMPND   3 CHAIN: A, B, C, D;\n",
      "COMPND   4 FRAGMENT: LANGERIN CRD (UNP RESIDUES 193-328);\n",
      "COMPND   5 SYNONYM: LANGERIN;\n",
      "COMPND   6 ENGINEERED: YES\n",
      "SOURCE    MOL_ID: 1;\n",
      "================================================================================\n",
      "Total line count:  5852\n"
     ]
    }
   ],
   "source": [
    "# Lets have a look into the PDB file\n",
    "with open(\"3p5g.pdb\") as pdb_file:\n",
    "    show = 10  # Lines to show\n",
    "    for lc, line in enumerate(pdb_file):\n",
    "        # Print the first lines of the file\n",
    "        if lc < show:\n",
    "            print(line.strip())\n",
    "print(\"=\" * 80)\n",
    "print(\"Total line count: \", lc)"
   ]
  },
  {
   "cell_type": "code",
   "execution_count": 5,
   "id": "ba40fdb4",
   "metadata": {},
   "outputs": [
    {
     "name": "stdout",
     "output_type": "stream",
     "text": [
      "GLN VAL VAL SER GLN GLY TRP LYS TYR PHE LYS GLY ASN\n",
      "PHE TYR TYR PHE SER LEU ILE PRO LYS THR TRP TYR SER\n",
      "ALA GLU GLN PHE CYS VAL SER ARG ASN SER HIS LEU THR\n",
      "SER VAL THR SER GLU SER GLU GLN GLU PHE LEU TYR LYS\n",
      "THR ALA GLY GLY LEU ILE TYR TRP ILE GLY LEU THR LYS\n",
      "ALA GLY MET GLU GLY ASP TRP SER TRP VAL ASP ASP THR\n",
      "PRO PHE ASN LYS VAL GLN SER ALA ARG PHE TRP ILE PRO\n",
      "GLY GLU PRO ASN ASN ALA GLY ASN ASN GLU HIS CYS GLY\n",
      "ASN ILE LYS ALA PRO SER LEU GLN ALA TRP ASN ASP ALA\n",
      "PRO CYS ASP LYS THR PHE LEU PHE ILE CYS LYS ARG PRO\n",
      "TYR VAL PRO SER GLU PRO\n"
     ]
    }
   ],
   "source": [
    "# What is the protein sequence?\n",
    "with open(\"3p5g.pdb\") as pdb_file:\n",
    "    for line in pdb_file:\n",
    "        if line.startswith(\"SEQRES\"):\n",
    "            line = line.split()\n",
    "            if line[2] == \"A\":\n",
    "                # Only print sequence for chain A\n",
    "                print(*line[4:])"
   ]
  },
  {
   "cell_type": "code",
   "execution_count": 6,
   "id": "71146ea7",
   "metadata": {},
   "outputs": [
    {
     "name": "stdout",
     "output_type": "stream",
     "text": [
      "HETNAM     GAL BETA-D-GALACTOPYRANOSE\n",
      "HETNAM     FUC ALPHA-L-FUCOPYRANOSE\n",
      "HETNAM     GLA ALPHA-D-GALACTOPYRANOSE\n",
      "HETNAM      CA CALCIUM ION\n",
      "FORMUL   5  GAL    C6 H12 O6\n",
      "FORMUL   5  FUC    4(C6 H12 O5)\n",
      "FORMUL   5  GLA    3(C6 H12 O6)\n",
      "FORMUL   7   CA    4(CA 2+)\n",
      "FORMUL  13  HOH   *816(H2 O)\n"
     ]
    }
   ],
   "source": [
    "# What else is in the file?\n",
    "with open(\"3p5g.pdb\") as pdb_file:\n",
    "    for line in pdb_file:\n",
    "        if line.startswith((\"HETNAM\", \"FORMUL\")):\n",
    "            print(line.strip())"
   ]
  },
  {
   "cell_type": "code",
   "execution_count": 7,
   "id": "2ab6ad9a",
   "metadata": {},
   "outputs": [
    {
     "name": "stdout",
     "output_type": "stream",
     "text": [
      "ATOM      1  N   GLY A 198       1.923  33.617   6.889  1.00 29.44           N\n",
      "ATOM      2  CA  GLY A 198       2.927  34.067   5.942  1.00 33.42           C\n",
      "ATOM      3  C   GLY A 198       4.064  33.079   5.747  1.00 21.30           C\n",
      "ATOM      4  O   GLY A 198       5.016  33.355   5.022  1.00 26.76           O\n",
      "ATOM      5  N   TRP A 199       3.964  31.919   6.391  1.00 19.08           N\n",
      "ATOM      6  CA  TRP A 199       4.990  30.892   6.261  1.00 19.93           C\n",
      "ATOM      7  C   TRP A 199       4.987  30.356   4.840  1.00 28.23           C\n",
      "ATOM      8  O   TRP A 199       3.926  30.117   4.255  1.00 30.68           O\n",
      "ATOM      9  CB  TRP A 199       4.772  29.756   7.263  1.00 22.11           C\n",
      "ATOM     10  CG  TRP A 199       4.961  30.161   8.697  1.00 19.73           C\n"
     ]
    }
   ],
   "source": [
    "with open(\"3p5g.pdb\") as pdb_file:\n",
    "    show = 10\n",
    "    count = 0\n",
    "    # Print the first ATOM entries\n",
    "    for line in pdb_file:\n",
    "        if count >= show:\n",
    "            break\n",
    "        if line.startswith((\"ATOM\")):\n",
    "            print(line.strip())\n",
    "            count += 1"
   ]
  },
  {
   "cell_type": "code",
   "execution_count": 8,
   "id": "bee223ee",
   "metadata": {},
   "outputs": [
    {
     "name": "stdout",
     "output_type": "stream",
     "text": [
      "HETATM 4215  C1  GAL E   1      35.691  44.693   5.881  1.00 58.00           C\n",
      "HETATM 4216  C2  GAL E   1      34.721  44.101   4.866  1.00 34.37           C\n",
      "HETATM 4217  C3  GAL E   1      35.517  43.473   3.723  1.00 26.42           C\n",
      "HETATM 4218  C4  GAL E   1      36.531  44.479   3.176  1.00 47.76           C\n",
      "HETATM 4219  C5  GAL E   1      37.356  45.105   4.295  1.00 46.54           C\n",
      "HETATM 4220  C6  GAL E   1      38.282  46.188   3.748  1.00 66.04           C\n",
      "HETATM 4221  O1  GAL E   1      34.968  45.256   6.951  1.00 41.39           O\n",
      "HETATM 4222  O2  GAL E   1      33.927  43.149   5.553  1.00 30.54           O\n",
      "HETATM 4223  O3  GAL E   1      34.648  43.055   2.689  1.00 32.94           O\n",
      "HETATM 4224  O4  GAL E   1      35.864  45.510   2.481  1.00 33.15           O\n",
      "HETATM 4225  O5  GAL E   1      36.495  45.674   5.258  1.00 38.71           O\n",
      "HETATM 4226  O6  GAL E   1      38.986  46.792   4.811  1.00 54.30           O\n",
      "HETATM 4227  C1  FUC E   2      32.629  42.960   4.961  1.00 22.64           C\n",
      "HETATM 4228  C2  FUC E   2      31.943  41.857   5.765  1.00 19.14           C\n",
      "HETATM 4229  C3  FUC E   2      31.667  42.330   7.178  1.00 15.88           C\n",
      "HETATM 4230  C4  FUC E   2      30.867  43.622   7.148  1.00 22.27           C\n",
      "HETATM 4231  C5  FUC E   2      31.577  44.638   6.258  1.00 18.90           C\n",
      "HETATM 4232  C6  FUC E   2      30.712  45.886   6.131  1.00 32.10           C\n",
      "HETATM 4233  O2  FUC E   2      32.798  40.739   5.847  1.00 24.94           O\n",
      "HETATM 4234  O3  FUC E   2      30.972  41.311   7.888  1.00 20.82           O\n",
      "HETATM 4235  O4  FUC E   2      29.573  43.399   6.633  1.00 25.32           O\n",
      "HETATM 4236  O5  FUC E   2      31.822  44.121   4.962  1.00 24.17           O\n",
      "HETATM 4237  C1  GLA E   3      35.389  42.564   1.554  1.00 34.53           C\n",
      "HETATM 4238  C2  GLA E   3      34.417  41.967   0.543  1.00 38.46           C\n",
      "HETATM 4239  C3  GLA E   3      33.765  40.724   1.124  1.00 24.16           C\n",
      "HETATM 4240  C4  GLA E   3      34.841  39.740   1.563  1.00 25.80           C\n",
      "HETATM 4241  C5  GLA E   3      35.798  40.434   2.520  1.00 33.42           C\n",
      "HETATM 4242  C6  GLA E   3      36.930  39.510   2.960  1.00 35.43           C\n",
      "HETATM 4243  O2  GLA E   3      33.406  42.903   0.245  1.00 35.44           O\n",
      "HETATM 4244  O3  GLA E   3      32.945  40.132   0.148  1.00 34.77           O\n",
      "HETATM 4245  O4  GLA E   3      35.543  39.288   0.424  1.00 26.84           O\n",
      "HETATM 4246  O5  GLA E   3      36.347  41.582   1.899  1.00 48.07           O\n",
      "HETATM 4247  O6  GLA E   3      37.680  40.140   3.977  1.00 26.17           O\n",
      "HETATM 4248  C1  GLA F   1      33.557  -9.263  37.554  1.00 38.67           C\n"
     ]
    }
   ],
   "source": [
    "with open(\"3p5g.pdb\") as pdb_file:\n",
    "    show = 34\n",
    "    count = 0\n",
    "    # Print the first HETATM entries\n",
    "    for line in pdb_file:\n",
    "        if count >= show:\n",
    "            break\n",
    "        if line.startswith((\"HETATM\")):\n",
    "            print(line.strip())\n",
    "            count += 1"
   ]
  },
  {
   "cell_type": "code",
   "execution_count": 9,
   "id": "d707663c",
   "metadata": {},
   "outputs": [
    {
     "ename": "FileNotFoundError",
     "evalue": "[WinError 2] El sistema no puede encontrar el archivo especificado",
     "output_type": "error",
     "traceback": [
      "\u001b[31m---------------------------------------------------------------------------\u001b[39m",
      "\u001b[31mFileNotFoundError\u001b[39m                         Traceback (most recent call last)",
      "\u001b[36mCell\u001b[39m\u001b[36m \u001b[39m\u001b[32mIn[9]\u001b[39m\u001b[32m, line 2\u001b[39m\n\u001b[32m      1\u001b[39m \u001b[38;5;66;03m# Lauch VMD from Jupyter\u001b[39;00m\n\u001b[32m----> \u001b[39m\u001b[32m2\u001b[39m view = \u001b[43msubprocess\u001b[49m\u001b[43m.\u001b[49m\u001b[43mPopen\u001b[49m\u001b[43m(\u001b[49m\n\u001b[32m      3\u001b[39m \u001b[43m    \u001b[49m\u001b[43mshlex\u001b[49m\u001b[43m.\u001b[49m\u001b[43msplit\u001b[49m\u001b[43m(\u001b[49m\u001b[33;43m\"\u001b[39;49m\u001b[33;43mvmd 3p5g.pdb\u001b[39;49m\u001b[33;43m\"\u001b[39;49m\u001b[43m)\u001b[49m\u001b[43m,\u001b[49m\n\u001b[32m      4\u001b[39m \u001b[43m    \u001b[49m\u001b[43mclose_fds\u001b[49m\u001b[43m=\u001b[49m\u001b[38;5;28;43;01mTrue\u001b[39;49;00m\u001b[43m,\u001b[49m\n\u001b[32m      5\u001b[39m \u001b[43m    \u001b[49m\u001b[43mstdin\u001b[49m\u001b[43m=\u001b[49m\u001b[43msubprocess\u001b[49m\u001b[43m.\u001b[49m\u001b[43mPIPE\u001b[49m\u001b[43m,\u001b[49m\n\u001b[32m      6\u001b[39m \u001b[43m    \u001b[49m\u001b[43mstdout\u001b[49m\u001b[43m=\u001b[49m\u001b[43msubprocess\u001b[49m\u001b[43m.\u001b[49m\u001b[43mPIPE\u001b[49m\u001b[43m,\u001b[49m\n\u001b[32m      7\u001b[39m \u001b[43m    \u001b[49m\u001b[43mstderr\u001b[49m\u001b[43m=\u001b[49m\u001b[43msubprocess\u001b[49m\u001b[43m.\u001b[49m\u001b[43mPIPE\u001b[49m\n\u001b[32m      8\u001b[39m \u001b[43m)\u001b[49m\n",
      "\u001b[36mFile \u001b[39m\u001b[32mc:\\Users\\josue\\anaconda3\\envs\\bioinformatica_py\\Lib\\subprocess.py:1028\u001b[39m, in \u001b[36mPopen.__init__\u001b[39m\u001b[34m(self, args, bufsize, executable, stdin, stdout, stderr, preexec_fn, close_fds, shell, cwd, env, universal_newlines, startupinfo, creationflags, restore_signals, start_new_session, pass_fds, user, group, extra_groups, encoding, errors, text, umask, pipesize, process_group)\u001b[39m\n\u001b[32m   1024\u001b[39m         \u001b[38;5;28;01mif\u001b[39;00m \u001b[38;5;28mself\u001b[39m.text_mode:\n\u001b[32m   1025\u001b[39m             \u001b[38;5;28mself\u001b[39m.stderr = io.TextIOWrapper(\u001b[38;5;28mself\u001b[39m.stderr,\n\u001b[32m   1026\u001b[39m                     encoding=encoding, errors=errors)\n\u001b[32m-> \u001b[39m\u001b[32m1028\u001b[39m     \u001b[38;5;28;43mself\u001b[39;49m\u001b[43m.\u001b[49m\u001b[43m_execute_child\u001b[49m\u001b[43m(\u001b[49m\u001b[43margs\u001b[49m\u001b[43m,\u001b[49m\u001b[43m \u001b[49m\u001b[43mexecutable\u001b[49m\u001b[43m,\u001b[49m\u001b[43m \u001b[49m\u001b[43mpreexec_fn\u001b[49m\u001b[43m,\u001b[49m\u001b[43m \u001b[49m\u001b[43mclose_fds\u001b[49m\u001b[43m,\u001b[49m\n\u001b[32m   1029\u001b[39m \u001b[43m                        \u001b[49m\u001b[43mpass_fds\u001b[49m\u001b[43m,\u001b[49m\u001b[43m \u001b[49m\u001b[43mcwd\u001b[49m\u001b[43m,\u001b[49m\u001b[43m \u001b[49m\u001b[43menv\u001b[49m\u001b[43m,\u001b[49m\n\u001b[32m   1030\u001b[39m \u001b[43m                        \u001b[49m\u001b[43mstartupinfo\u001b[49m\u001b[43m,\u001b[49m\u001b[43m \u001b[49m\u001b[43mcreationflags\u001b[49m\u001b[43m,\u001b[49m\u001b[43m \u001b[49m\u001b[43mshell\u001b[49m\u001b[43m,\u001b[49m\n\u001b[32m   1031\u001b[39m \u001b[43m                        \u001b[49m\u001b[43mp2cread\u001b[49m\u001b[43m,\u001b[49m\u001b[43m \u001b[49m\u001b[43mp2cwrite\u001b[49m\u001b[43m,\u001b[49m\n\u001b[32m   1032\u001b[39m \u001b[43m                        \u001b[49m\u001b[43mc2pread\u001b[49m\u001b[43m,\u001b[49m\u001b[43m \u001b[49m\u001b[43mc2pwrite\u001b[49m\u001b[43m,\u001b[49m\n\u001b[32m   1033\u001b[39m \u001b[43m                        \u001b[49m\u001b[43merrread\u001b[49m\u001b[43m,\u001b[49m\u001b[43m \u001b[49m\u001b[43merrwrite\u001b[49m\u001b[43m,\u001b[49m\n\u001b[32m   1034\u001b[39m \u001b[43m                        \u001b[49m\u001b[43mrestore_signals\u001b[49m\u001b[43m,\u001b[49m\n\u001b[32m   1035\u001b[39m \u001b[43m                        \u001b[49m\u001b[43mgid\u001b[49m\u001b[43m,\u001b[49m\u001b[43m \u001b[49m\u001b[43mgids\u001b[49m\u001b[43m,\u001b[49m\u001b[43m \u001b[49m\u001b[43muid\u001b[49m\u001b[43m,\u001b[49m\u001b[43m \u001b[49m\u001b[43mumask\u001b[49m\u001b[43m,\u001b[49m\n\u001b[32m   1036\u001b[39m \u001b[43m                        \u001b[49m\u001b[43mstart_new_session\u001b[49m\u001b[43m,\u001b[49m\u001b[43m \u001b[49m\u001b[43mprocess_group\u001b[49m\u001b[43m)\u001b[49m\n\u001b[32m   1037\u001b[39m \u001b[38;5;28;01mexcept\u001b[39;00m:\n\u001b[32m   1038\u001b[39m     \u001b[38;5;66;03m# Cleanup if the child failed starting.\u001b[39;00m\n\u001b[32m   1039\u001b[39m     \u001b[38;5;28;01mfor\u001b[39;00m f \u001b[38;5;129;01min\u001b[39;00m \u001b[38;5;28mfilter\u001b[39m(\u001b[38;5;28;01mNone\u001b[39;00m, (\u001b[38;5;28mself\u001b[39m.stdin, \u001b[38;5;28mself\u001b[39m.stdout, \u001b[38;5;28mself\u001b[39m.stderr)):\n",
      "\u001b[36mFile \u001b[39m\u001b[32mc:\\Users\\josue\\anaconda3\\envs\\bioinformatica_py\\Lib\\subprocess.py:1540\u001b[39m, in \u001b[36mPopen._execute_child\u001b[39m\u001b[34m(self, args, executable, preexec_fn, close_fds, pass_fds, cwd, env, startupinfo, creationflags, shell, p2cread, p2cwrite, c2pread, c2pwrite, errread, errwrite, unused_restore_signals, unused_gid, unused_gids, unused_uid, unused_umask, unused_start_new_session, unused_process_group)\u001b[39m\n\u001b[32m   1538\u001b[39m \u001b[38;5;66;03m# Start the process\u001b[39;00m\n\u001b[32m   1539\u001b[39m \u001b[38;5;28;01mtry\u001b[39;00m:\n\u001b[32m-> \u001b[39m\u001b[32m1540\u001b[39m     hp, ht, pid, tid = \u001b[43m_winapi\u001b[49m\u001b[43m.\u001b[49m\u001b[43mCreateProcess\u001b[49m\u001b[43m(\u001b[49m\u001b[43mexecutable\u001b[49m\u001b[43m,\u001b[49m\u001b[43m \u001b[49m\u001b[43margs\u001b[49m\u001b[43m,\u001b[49m\n\u001b[32m   1541\u001b[39m \u001b[43m                             \u001b[49m\u001b[38;5;66;43;03m# no special security\u001b[39;49;00m\n\u001b[32m   1542\u001b[39m \u001b[43m                             \u001b[49m\u001b[38;5;28;43;01mNone\u001b[39;49;00m\u001b[43m,\u001b[49m\u001b[43m \u001b[49m\u001b[38;5;28;43;01mNone\u001b[39;49;00m\u001b[43m,\u001b[49m\n\u001b[32m   1543\u001b[39m \u001b[43m                             \u001b[49m\u001b[38;5;28;43mint\u001b[39;49m\u001b[43m(\u001b[49m\u001b[38;5;129;43;01mnot\u001b[39;49;00m\u001b[43m \u001b[49m\u001b[43mclose_fds\u001b[49m\u001b[43m)\u001b[49m\u001b[43m,\u001b[49m\n\u001b[32m   1544\u001b[39m \u001b[43m                             \u001b[49m\u001b[43mcreationflags\u001b[49m\u001b[43m,\u001b[49m\n\u001b[32m   1545\u001b[39m \u001b[43m                             \u001b[49m\u001b[43menv\u001b[49m\u001b[43m,\u001b[49m\n\u001b[32m   1546\u001b[39m \u001b[43m                             \u001b[49m\u001b[43mcwd\u001b[49m\u001b[43m,\u001b[49m\n\u001b[32m   1547\u001b[39m \u001b[43m                             \u001b[49m\u001b[43mstartupinfo\u001b[49m\u001b[43m)\u001b[49m\n\u001b[32m   1548\u001b[39m \u001b[38;5;28;01mfinally\u001b[39;00m:\n\u001b[32m   1549\u001b[39m     \u001b[38;5;66;03m# Child is launched. Close the parent's copy of those pipe\u001b[39;00m\n\u001b[32m   1550\u001b[39m     \u001b[38;5;66;03m# handles that only the child should have open.  You need\u001b[39;00m\n\u001b[32m   (...)\u001b[39m\u001b[32m   1553\u001b[39m     \u001b[38;5;66;03m# pipe will not close when the child process exits and the\u001b[39;00m\n\u001b[32m   1554\u001b[39m     \u001b[38;5;66;03m# ReadFile will hang.\u001b[39;00m\n\u001b[32m   1555\u001b[39m     \u001b[38;5;28mself\u001b[39m._close_pipe_fds(p2cread, p2cwrite,\n\u001b[32m   1556\u001b[39m                          c2pread, c2pwrite,\n\u001b[32m   1557\u001b[39m                          errread, errwrite)\n",
      "\u001b[31mFileNotFoundError\u001b[39m: [WinError 2] El sistema no puede encontrar el archivo especificado"
     ]
    }
   ],
   "source": [
    "# Lauch VMD from Jupyter\n",
    "view = subprocess.Popen(\n",
    "    shlex.split(\"vmd 3p5g.pdb\"),\n",
    "    close_fds=True,\n",
    "    stdin=subprocess.PIPE,\n",
    "    stdout=subprocess.PIPE,\n",
    "    stderr=subprocess.PIPE\n",
    ")"
   ]
  },
  {
   "cell_type": "code",
   "execution_count": 10,
   "id": "a8603be2",
   "metadata": {},
   "outputs": [
    {
     "name": "stdout",
     "output_type": "stream",
     "text": [
      "ATOM    658  CA ASER A 277      29.047  24.388   2.751  0.50 19.39           C\n",
      "ATOM    659  CA BSER A 277      29.040  24.387   2.738  0.50 18.11           C\n",
      "ATOM    662  CB ASER A 277      28.811  24.669   4.239  0.50 18.59           C\n",
      "ATOM    663  CB BSER A 277      28.762  24.666   4.218  0.50 17.85           C\n",
      "ATOM    664  OG ASER A 277      27.712  23.928   4.738  0.50 15.78           O\n",
      "ATOM    665  OG BSER A 277      29.938  24.530   4.996  0.50 17.39           O\n"
     ]
    }
   ],
   "source": [
    "# Check structure for alternative atom positions\n",
    "with open(\"3p5g.pdb\") as pdb_file:\n",
    "    for line in pdb_file:\n",
    "        if not line.startswith(\"ATOM\"):\n",
    "            continue\n",
    "        if not line[21] == \"A\":  # Chain A?\n",
    "            continue\n",
    "        if line[16] != \" \":      # Alternativ atoms positions?\n",
    "            print(line.strip())"
   ]
  },
  {
   "cell_type": "code",
   "execution_count": 12,
   "id": "011c5266",
   "metadata": {},
   "outputs": [],
   "source": [
    "allowed_res_ids = list(range(198, 326)) + [500]\n",
    "# Protein 198 to 325 and Ca\n",
    "\n",
    "# Copy desired information from one file to another\n",
    "with open(\"3p5g.pdb\") as in_file:\n",
    "    with open(\"chain_A.pdb\", \"w\") as out_file:\n",
    "        for line in in_file:\n",
    "            if line.startswith((\"ATOM\", \"TER\", \"HETATM\")):\n",
    "                # check for atomic entries\n",
    "                if not line[21] == \"A\":\n",
    "                    # Chain A?\n",
    "                    continue\n",
    "                if not int(line[22:26]) in allowed_res_ids:\n",
    "                    # Keep residue?\n",
    "                    continue\n",
    "                if line[16] == \"B\":  # Alternative set of atoms?\n",
    "                    # Throw away location B\n",
    "                    continue\n",
    "                if line[16] == \"A\":  # Alternative set of atoms?\n",
    "                    # Keep location A\n",
    "                    line = line[:16] + \" \" + line[17:]\n",
    "            out_file.write(line)"
   ]
  },
  {
   "cell_type": "code",
   "execution_count": 13,
   "id": "ac7355c7",
   "metadata": {},
   "outputs": [
    {
     "name": "stderr",
     "output_type": "stream",
     "text": [
      "Warning: importing 'simtk.openmm' is deprecated.  Import 'openmm' instead.\n"
     ]
    }
   ],
   "source": [
    "import pdbfixer\n",
    "import simtk.openmm.app as app  # OpenMM interface"
   ]
  },
  {
   "cell_type": "code",
   "execution_count": 14,
   "id": "178b8f4a",
   "metadata": {},
   "outputs": [
    {
     "name": "stdout",
     "output_type": "stream",
     "text": [
      "{(0, 0): ['GLN', 'VAL', 'VAL', 'SER', 'GLN'], (0, 128): ['SER', 'GLU', 'PRO']}\n"
     ]
    }
   ],
   "source": [
    "fixer = pdbfixer.PDBFixer(\"chain_A.pdb\")  # Load file\n",
    "fixer.findMissingResidues()               # Identify missing residues\n",
    "fixer.findMissingAtoms()                  # Identify missing atoms\n",
    "print(fixer.missingResidues)"
   ]
  },
  {
   "cell_type": "code",
   "execution_count": 15,
   "id": "eeb04d59",
   "metadata": {},
   "outputs": [],
   "source": [
    "fixer.addMissingAtoms()  # Apply the fix\n",
    "app.PDBFile.writeFile(fixer.topology, fixer.positions, open('chain_A_fixed.pdb', 'w'))\n",
    "# Save to file"
   ]
  },
  {
   "cell_type": "code",
   "execution_count": 17,
   "id": "bfdf201c",
   "metadata": {},
   "outputs": [],
   "source": [
    "offset = 192 # Residue numbering should start here\n",
    "\n",
    "# Fix residue numbering\n",
    "with open('chain_A_fixed.pdb') as in_file:\n",
    "    with open('chain_A_fixednumbering.pdb', \"w\") as out_file:\n",
    "        for line in in_file:\n",
    "            if line.startswith((\"ATOM\", \"TER\", \"HETATM\")) and line[21] == \"A\":\n",
    "                resid = int(line[22:26]) + offset\n",
    "                line = line[:22] + f\"{resid:>4}\" + line[26:]\n",
    "            out_file.write(line)"
   ]
  },
  {
   "cell_type": "code",
   "execution_count": 18,
   "id": "481a09a7",
   "metadata": {},
   "outputs": [],
   "source": [
    "import simtk.openmm as mm       # Main OpenMM functionality\n",
    "import simtk.openmm.app as app  # Application layer (handy interface)\n",
    "import simtk.unit as unit       # Unit/quantaty handling"
   ]
  },
  {
   "cell_type": "code",
   "execution_count": 19,
   "id": "ba52a69e",
   "metadata": {},
   "outputs": [
    {
     "data": {
      "text/plain": [
       "Quantity(value=Vec3(x=-1.5174, y=4.1002, z=0.401), unit=nanometer)"
      ]
     },
     "execution_count": 19,
     "metadata": {},
     "output_type": "execute_result"
    }
   ],
   "source": [
    "molecule = app.PDBFile(\"chain_A_fixednumbering.pdb\")  # Load PDB\n",
    "molecule.positions[0]  # Access position of atom 1"
   ]
  },
  {
   "cell_type": "code",
   "execution_count": 20,
   "id": "6e656be5",
   "metadata": {},
   "outputs": [
    {
     "data": {
      "text/plain": [
       "<Topology; 2 chains, 137 residues, 1104 atoms, 1145 bonds>"
      ]
     },
     "execution_count": 20,
     "metadata": {},
     "output_type": "execute_result"
    }
   ],
   "source": [
    "molecule.topology"
   ]
  },
  {
   "cell_type": "code",
   "execution_count": 21,
   "id": "b831abc6",
   "metadata": {},
   "outputs": [],
   "source": [
    "forcefield = app.ForceField(\n",
    "    \"amber14/protein.ff14SB.xml\",\n",
    "    \"amber14/tip3p.xml\"\n",
    ")"
   ]
  },
  {
   "cell_type": "code",
   "execution_count": 22,
   "id": "da98e926",
   "metadata": {},
   "outputs": [],
   "source": [
    "model = app.Modeller(molecule.topology, molecule.positions)\n",
    "# Prepare molecule for modeling\n",
    "\n",
    "model.addHydrogens(\n",
    "    forcefield\n",
    "    )\n",
    "\n",
    "model.addSolvent(\n",
    "    forcefield,\n",
    "    padding=1*unit.nanometer,\n",
    "    neutralize=True\n",
    "    )"
   ]
  },
  {
   "cell_type": "code",
   "execution_count": 23,
   "id": "4cff4490",
   "metadata": {},
   "outputs": [],
   "source": [
    "molecule.positions = model.getPositions()\n",
    "molecule.topology = model.getTopology()"
   ]
  },
  {
   "cell_type": "code",
   "execution_count": 24,
   "id": "7d2f2394",
   "metadata": {},
   "outputs": [],
   "source": [
    "with open(\"solvated.pdb\", \"w\") as file_:\n",
    "    molecule.writeFile(\n",
    "        molecule.topology, molecule.positions,\n",
    "        file=file_\n",
    "    )"
   ]
  },
  {
   "cell_type": "code",
   "execution_count": 25,
   "id": "27cc74d2",
   "metadata": {},
   "outputs": [],
   "source": [
    "# Create a simulation system from a force field\n",
    "system = forcefield.createSystem(\n",
    "    molecule.topology,                 # pass the molecular topology\n",
    "    nonbondedMethod=app.PME,           # How to treat non-bonded interactions\n",
    "    nonbondedCutoff=1*unit.nanometer,  # cutoff for non-bonded interactions\n",
    "    constraints=app.HBonds             # Constrain H-heavy atom bonds\n",
    "    )"
   ]
  },
  {
   "cell_type": "code",
   "execution_count": 26,
   "id": "e4da8922",
   "metadata": {},
   "outputs": [
    {
     "data": {
      "text/plain": [
       "5"
      ]
     },
     "execution_count": 26,
     "metadata": {},
     "output_type": "execute_result"
    }
   ],
   "source": [
    "system.addForce(\n",
    "    mm.AndersenThermostat(300*unit.kelvin, 1/unit.picosecond)\n",
    "    )"
   ]
  },
  {
   "cell_type": "code",
   "execution_count": 27,
   "id": "f81b675a",
   "metadata": {},
   "outputs": [],
   "source": [
    "integrator = mm.VerletIntegrator(2.0*unit.femtoseconds)\n",
    "integrator.setConstraintTolerance(0.00001)"
   ]
  },
  {
   "cell_type": "code",
   "execution_count": 28,
   "id": "27428770",
   "metadata": {},
   "outputs": [],
   "source": [
    "simulation = app.Simulation(\n",
    "    molecule.topology,                    # Topology\n",
    "    system,                               # System\n",
    "    integrator,                           # Integrator\n",
    "    mm.Platform.getPlatformByName('CPU')  # Platform\n",
    ")"
   ]
  },
  {
   "cell_type": "code",
   "execution_count": 29,
   "id": "77b756cb",
   "metadata": {},
   "outputs": [],
   "source": [
    "simulation.context.setPositions(molecule.positions)"
   ]
  },
  {
   "cell_type": "code",
   "execution_count": 30,
   "id": "ccc3c313",
   "metadata": {},
   "outputs": [],
   "source": [
    "simulation.minimizeEnergy() ##################10 MINUTOS "
   ]
  },
  {
   "cell_type": "code",
   "execution_count": 31,
   "id": "5f532311",
   "metadata": {},
   "outputs": [],
   "source": [
    "state = simulation.context.getState(getPositions=True)\n",
    "molecule.positions = state.getPositions()"
   ]
  },
  {
   "cell_type": "code",
   "execution_count": 32,
   "id": "561eeedd",
   "metadata": {},
   "outputs": [],
   "source": [
    "with open(\"min.pdb\", \"w\") as file_:\n",
    "    molecule.writeFile(\n",
    "        molecule.topology, molecule.positions,\n",
    "        file=file_\n",
    "    )"
   ]
  },
  {
   "cell_type": "code",
   "execution_count": 33,
   "id": "bcc176ac",
   "metadata": {},
   "outputs": [],
   "source": [
    "molecule = app.PDBFile(\"min.pdb\")\n",
    "simulation.context.setPositions(molecule.positions)"
   ]
  },
  {
   "cell_type": "code",
   "execution_count": 34,
   "id": "9006be68",
   "metadata": {},
   "outputs": [],
   "source": [
    "run_length = 15  # 50000 * 2 fs = 100 ps\n",
    "simulation.reporters.append(\n",
    "    app.StateDataReporter(\n",
    "        \"equilibration.log\", 500, step=True,\n",
    "        potentialEnergy=True, totalEnergy=True,\n",
    "        temperature=True, progress=True,\n",
    "        remainingTime=True, speed=True,\n",
    "        totalSteps=run_length,\n",
    "        separator='\\t')\n",
    "        )"
   ]
  },
  {
   "cell_type": "code",
   "execution_count": 35,
   "id": "d172a7bf",
   "metadata": {},
   "outputs": [],
   "source": [
    "simulation.step(run_length)"
   ]
  },
  {
   "cell_type": "code",
   "execution_count": 36,
   "id": "62cea9eb",
   "metadata": {},
   "outputs": [],
   "source": [
    "pot_e = []\n",
    "tot_e = []\n",
    "temperature = []\n",
    "\n",
    "with open(\"equilibration.log\") as file_:\n",
    "    for line in file_:\n",
    "        if line.startswith(\"#\"):\n",
    "            continue\n",
    "        for l, v in zip((pot_e, tot_e, temperature), line.split()[2:5]):\n",
    "            l.append(float(v))\n",
    "\n",
    "t = range(1, 101)"
   ]
  },
  {
   "cell_type": "code",
   "execution_count": 37,
   "id": "ff28cfaa",
   "metadata": {},
   "outputs": [
    {
     "ename": "ValueError",
     "evalue": "x and y must have same first dimension, but have shapes (100,) and (0,)",
     "output_type": "error",
     "traceback": [
      "\u001b[31m---------------------------------------------------------------------------\u001b[39m",
      "\u001b[31mValueError\u001b[39m                                Traceback (most recent call last)",
      "\u001b[36mCell\u001b[39m\u001b[36m \u001b[39m\u001b[32mIn[37]\u001b[39m\u001b[32m, line 3\u001b[39m\n\u001b[32m      1\u001b[39m plt.close(\u001b[33m\"\u001b[39m\u001b[33mall\u001b[39m\u001b[33m\"\u001b[39m)\n\u001b[32m      2\u001b[39m fig, ax = plt.subplots()\n\u001b[32m----> \u001b[39m\u001b[32m3\u001b[39m \u001b[43max\u001b[49m\u001b[43m.\u001b[49m\u001b[43mplot\u001b[49m\u001b[43m(\u001b[49m\u001b[43mt\u001b[49m\u001b[43m,\u001b[49m\u001b[43m \u001b[49m\u001b[43m[\u001b[49m\u001b[43mx\u001b[49m\u001b[43m \u001b[49m\u001b[43m/\u001b[49m\u001b[43m \u001b[49m\u001b[32;43m1000\u001b[39;49m\u001b[43m \u001b[49m\u001b[38;5;28;43;01mfor\u001b[39;49;00m\u001b[43m \u001b[49m\u001b[43mx\u001b[49m\u001b[43m \u001b[49m\u001b[38;5;129;43;01min\u001b[39;49;00m\u001b[43m \u001b[49m\u001b[43mpot_e\u001b[49m\u001b[43m]\u001b[49m\u001b[43m,\u001b[49m\u001b[43m \u001b[49m\u001b[43mlabel\u001b[49m\u001b[43m=\u001b[49m\u001b[33;43m\"\u001b[39;49m\u001b[33;43mpotential\u001b[39;49m\u001b[33;43m\"\u001b[39;49m\u001b[43m)\u001b[49m\n\u001b[32m      4\u001b[39m ax.plot(t, [x / \u001b[32m1000\u001b[39m \u001b[38;5;28;01mfor\u001b[39;00m x \u001b[38;5;129;01min\u001b[39;00m tot_e], label=\u001b[33m\"\u001b[39m\u001b[33mtotal\u001b[39m\u001b[33m\"\u001b[39m)\n\u001b[32m      6\u001b[39m ax.set(**{\n\u001b[32m      7\u001b[39m     \u001b[33m\"\u001b[39m\u001b[33mtitle\u001b[39m\u001b[33m\"\u001b[39m: \u001b[33m\"\u001b[39m\u001b[33mEnergy\u001b[39m\u001b[33m\"\u001b[39m,\n\u001b[32m      8\u001b[39m     \u001b[33m\"\u001b[39m\u001b[33mxlabel\u001b[39m\u001b[33m\"\u001b[39m: \u001b[33m\"\u001b[39m\u001b[33mtime / ps\u001b[39m\u001b[33m\"\u001b[39m,\n\u001b[32m      9\u001b[39m     \u001b[33m\"\u001b[39m\u001b[33mxlim\u001b[39m\u001b[33m\"\u001b[39m: (\u001b[32m0\u001b[39m, \u001b[32m100\u001b[39m),\n\u001b[32m     10\u001b[39m     \u001b[33m\"\u001b[39m\u001b[33mylabel\u001b[39m\u001b[33m\"\u001b[39m: \u001b[33m\"\u001b[39m\u001b[33menergy / 10$^\u001b[39m\u001b[38;5;132;01m{3}\u001b[39;00m\u001b[33m$ kJ mol$^\u001b[39m\u001b[33m{\u001b[39m\u001b[33m-1}$\u001b[39m\u001b[33m\"\u001b[39m\n\u001b[32m     11\u001b[39m     })\n",
      "\u001b[36mFile \u001b[39m\u001b[32mc:\\Users\\josue\\anaconda3\\envs\\bioinformatica_py\\Lib\\site-packages\\matplotlib\\axes\\_axes.py:1777\u001b[39m, in \u001b[36mAxes.plot\u001b[39m\u001b[34m(self, scalex, scaley, data, *args, **kwargs)\u001b[39m\n\u001b[32m   1534\u001b[39m \u001b[38;5;250m\u001b[39m\u001b[33;03m\"\"\"\u001b[39;00m\n\u001b[32m   1535\u001b[39m \u001b[33;03mPlot y versus x as lines and/or markers.\u001b[39;00m\n\u001b[32m   1536\u001b[39m \n\u001b[32m   (...)\u001b[39m\u001b[32m   1774\u001b[39m \u001b[33;03m(``'green'``) or hex strings (``'#008000'``).\u001b[39;00m\n\u001b[32m   1775\u001b[39m \u001b[33;03m\"\"\"\u001b[39;00m\n\u001b[32m   1776\u001b[39m kwargs = cbook.normalize_kwargs(kwargs, mlines.Line2D)\n\u001b[32m-> \u001b[39m\u001b[32m1777\u001b[39m lines = [*\u001b[38;5;28mself\u001b[39m._get_lines(\u001b[38;5;28mself\u001b[39m, *args, data=data, **kwargs)]\n\u001b[32m   1778\u001b[39m \u001b[38;5;28;01mfor\u001b[39;00m line \u001b[38;5;129;01min\u001b[39;00m lines:\n\u001b[32m   1779\u001b[39m     \u001b[38;5;28mself\u001b[39m.add_line(line)\n",
      "\u001b[36mFile \u001b[39m\u001b[32mc:\\Users\\josue\\anaconda3\\envs\\bioinformatica_py\\Lib\\site-packages\\matplotlib\\axes\\_base.py:297\u001b[39m, in \u001b[36m_process_plot_var_args.__call__\u001b[39m\u001b[34m(self, axes, data, return_kwargs, *args, **kwargs)\u001b[39m\n\u001b[32m    295\u001b[39m     this += args[\u001b[32m0\u001b[39m],\n\u001b[32m    296\u001b[39m     args = args[\u001b[32m1\u001b[39m:]\n\u001b[32m--> \u001b[39m\u001b[32m297\u001b[39m \u001b[38;5;28;01myield from\u001b[39;00m \u001b[38;5;28;43mself\u001b[39;49m\u001b[43m.\u001b[49m\u001b[43m_plot_args\u001b[49m\u001b[43m(\u001b[49m\n\u001b[32m    298\u001b[39m \u001b[43m    \u001b[49m\u001b[43maxes\u001b[49m\u001b[43m,\u001b[49m\u001b[43m \u001b[49m\u001b[43mthis\u001b[49m\u001b[43m,\u001b[49m\u001b[43m \u001b[49m\u001b[43mkwargs\u001b[49m\u001b[43m,\u001b[49m\u001b[43m \u001b[49m\u001b[43mambiguous_fmt_datakey\u001b[49m\u001b[43m=\u001b[49m\u001b[43mambiguous_fmt_datakey\u001b[49m\u001b[43m,\u001b[49m\n\u001b[32m    299\u001b[39m \u001b[43m    \u001b[49m\u001b[43mreturn_kwargs\u001b[49m\u001b[43m=\u001b[49m\u001b[43mreturn_kwargs\u001b[49m\n\u001b[32m    300\u001b[39m \u001b[43m\u001b[49m\u001b[43m)\u001b[49m\n",
      "\u001b[36mFile \u001b[39m\u001b[32mc:\\Users\\josue\\anaconda3\\envs\\bioinformatica_py\\Lib\\site-packages\\matplotlib\\axes\\_base.py:494\u001b[39m, in \u001b[36m_process_plot_var_args._plot_args\u001b[39m\u001b[34m(self, axes, tup, kwargs, return_kwargs, ambiguous_fmt_datakey)\u001b[39m\n\u001b[32m    491\u001b[39m     axes.yaxis.update_units(y)\n\u001b[32m    493\u001b[39m \u001b[38;5;28;01mif\u001b[39;00m x.shape[\u001b[32m0\u001b[39m] != y.shape[\u001b[32m0\u001b[39m]:\n\u001b[32m--> \u001b[39m\u001b[32m494\u001b[39m     \u001b[38;5;28;01mraise\u001b[39;00m \u001b[38;5;167;01mValueError\u001b[39;00m(\u001b[33mf\u001b[39m\u001b[33m\"\u001b[39m\u001b[33mx and y must have same first dimension, but \u001b[39m\u001b[33m\"\u001b[39m\n\u001b[32m    495\u001b[39m                      \u001b[33mf\u001b[39m\u001b[33m\"\u001b[39m\u001b[33mhave shapes \u001b[39m\u001b[38;5;132;01m{\u001b[39;00mx.shape\u001b[38;5;132;01m}\u001b[39;00m\u001b[33m and \u001b[39m\u001b[38;5;132;01m{\u001b[39;00my.shape\u001b[38;5;132;01m}\u001b[39;00m\u001b[33m\"\u001b[39m)\n\u001b[32m    496\u001b[39m \u001b[38;5;28;01mif\u001b[39;00m x.ndim > \u001b[32m2\u001b[39m \u001b[38;5;129;01mor\u001b[39;00m y.ndim > \u001b[32m2\u001b[39m:\n\u001b[32m    497\u001b[39m     \u001b[38;5;28;01mraise\u001b[39;00m \u001b[38;5;167;01mValueError\u001b[39;00m(\u001b[33mf\u001b[39m\u001b[33m\"\u001b[39m\u001b[33mx and y can be no greater than 2D, but have \u001b[39m\u001b[33m\"\u001b[39m\n\u001b[32m    498\u001b[39m                      \u001b[33mf\u001b[39m\u001b[33m\"\u001b[39m\u001b[33mshapes \u001b[39m\u001b[38;5;132;01m{\u001b[39;00mx.shape\u001b[38;5;132;01m}\u001b[39;00m\u001b[33m and \u001b[39m\u001b[38;5;132;01m{\u001b[39;00my.shape\u001b[38;5;132;01m}\u001b[39;00m\u001b[33m\"\u001b[39m)\n",
      "\u001b[31mValueError\u001b[39m: x and y must have same first dimension, but have shapes (100,) and (0,)"
     ]
    },
    {
     "data": {
      "image/png": "[encoded data removed]",
      "text/plain": [
       "<Figure size 640x480 with 1 Axes>"
      ]
     },
     "metadata": {},
     "output_type": "display_data"
    }
   ],
   "source": [
    "plt.close(\"all\")\n",
    "fig, ax = plt.subplots()\n",
    "ax.plot(t, [x / 1000 for x in pot_e], label=\"potential\")\n",
    "ax.plot(t, [x / 1000 for x in tot_e], label=\"total\")\n",
    "\n",
    "ax.set(**{\n",
    "    \"title\": \"Energy\",\n",
    "    \"xlabel\": \"time / ps\",\n",
    "    \"xlim\": (0, 100),\n",
    "    \"ylabel\": \"energy / 10$^{3}$ kJ mol$^{-1}$\"\n",
    "    })\n",
    "\n",
    "ax.legend(\n",
    "    framealpha=1,\n",
    "    edgecolor=\"k\",\n",
    "    fancybox=False\n",
    ")\n",
    "plt.show()"
   ]
  },
  {
   "cell_type": "code",
   "execution_count": 38,
   "id": "e954046b",
   "metadata": {},
   "outputs": [
    {
     "ename": "ValueError",
     "evalue": "x and y must have same first dimension, but have shapes (100,) and (0,)",
     "output_type": "error",
     "traceback": [
      "\u001b[31m---------------------------------------------------------------------------\u001b[39m",
      "\u001b[31mValueError\u001b[39m                                Traceback (most recent call last)",
      "\u001b[36mCell\u001b[39m\u001b[36m \u001b[39m\u001b[32mIn[38]\u001b[39m\u001b[32m, line 3\u001b[39m\n\u001b[32m      1\u001b[39m plt.close(\u001b[33m\"\u001b[39m\u001b[33mall\u001b[39m\u001b[33m\"\u001b[39m)\n\u001b[32m      2\u001b[39m fig, ax = plt.subplots()\n\u001b[32m----> \u001b[39m\u001b[32m3\u001b[39m \u001b[43max\u001b[49m\u001b[43m.\u001b[49m\u001b[43mplot\u001b[49m\u001b[43m(\u001b[49m\u001b[43mt\u001b[49m\u001b[43m,\u001b[49m\u001b[43m \u001b[49m\u001b[43mtemperature\u001b[49m\u001b[43m)\u001b[49m\n\u001b[32m      5\u001b[39m ax.set(**{\n\u001b[32m      6\u001b[39m     \u001b[33m\"\u001b[39m\u001b[33mtitle\u001b[39m\u001b[33m\"\u001b[39m: \u001b[33m\"\u001b[39m\u001b[33mTemperature\u001b[39m\u001b[33m\"\u001b[39m,\n\u001b[32m      7\u001b[39m     \u001b[33m\"\u001b[39m\u001b[33mxlabel\u001b[39m\u001b[33m\"\u001b[39m: \u001b[33m\"\u001b[39m\u001b[33mtime / ps\u001b[39m\u001b[33m\"\u001b[39m,\n\u001b[32m      8\u001b[39m     \u001b[33m\"\u001b[39m\u001b[33mxlim\u001b[39m\u001b[33m\"\u001b[39m: (\u001b[32m0\u001b[39m, \u001b[32m100\u001b[39m),\n\u001b[32m      9\u001b[39m     \u001b[33m\"\u001b[39m\u001b[33mylabel\u001b[39m\u001b[33m\"\u001b[39m: \u001b[33m\"\u001b[39m\u001b[33mtemperature / K\u001b[39m\u001b[33m\"\u001b[39m\n\u001b[32m     10\u001b[39m     })\n\u001b[32m     11\u001b[39m plt.show()\n",
      "\u001b[36mFile \u001b[39m\u001b[32mc:\\Users\\josue\\anaconda3\\envs\\bioinformatica_py\\Lib\\site-packages\\matplotlib\\axes\\_axes.py:1777\u001b[39m, in \u001b[36mAxes.plot\u001b[39m\u001b[34m(self, scalex, scaley, data, *args, **kwargs)\u001b[39m\n\u001b[32m   1534\u001b[39m \u001b[38;5;250m\u001b[39m\u001b[33;03m\"\"\"\u001b[39;00m\n\u001b[32m   1535\u001b[39m \u001b[33;03mPlot y versus x as lines and/or markers.\u001b[39;00m\n\u001b[32m   1536\u001b[39m \n\u001b[32m   (...)\u001b[39m\u001b[32m   1774\u001b[39m \u001b[33;03m(``'green'``) or hex strings (``'#008000'``).\u001b[39;00m\n\u001b[32m   1775\u001b[39m \u001b[33;03m\"\"\"\u001b[39;00m\n\u001b[32m   1776\u001b[39m kwargs = cbook.normalize_kwargs(kwargs, mlines.Line2D)\n\u001b[32m-> \u001b[39m\u001b[32m1777\u001b[39m lines = [*\u001b[38;5;28mself\u001b[39m._get_lines(\u001b[38;5;28mself\u001b[39m, *args, data=data, **kwargs)]\n\u001b[32m   1778\u001b[39m \u001b[38;5;28;01mfor\u001b[39;00m line \u001b[38;5;129;01min\u001b[39;00m lines:\n\u001b[32m   1779\u001b[39m     \u001b[38;5;28mself\u001b[39m.add_line(line)\n",
      "\u001b[36mFile \u001b[39m\u001b[32mc:\\Users\\josue\\anaconda3\\envs\\bioinformatica_py\\Lib\\site-packages\\matplotlib\\axes\\_base.py:297\u001b[39m, in \u001b[36m_process_plot_var_args.__call__\u001b[39m\u001b[34m(self, axes, data, return_kwargs, *args, **kwargs)\u001b[39m\n\u001b[32m    295\u001b[39m     this += args[\u001b[32m0\u001b[39m],\n\u001b[32m    296\u001b[39m     args = args[\u001b[32m1\u001b[39m:]\n\u001b[32m--> \u001b[39m\u001b[32m297\u001b[39m \u001b[38;5;28;01myield from\u001b[39;00m \u001b[38;5;28;43mself\u001b[39;49m\u001b[43m.\u001b[49m\u001b[43m_plot_args\u001b[49m\u001b[43m(\u001b[49m\n\u001b[32m    298\u001b[39m \u001b[43m    \u001b[49m\u001b[43maxes\u001b[49m\u001b[43m,\u001b[49m\u001b[43m \u001b[49m\u001b[43mthis\u001b[49m\u001b[43m,\u001b[49m\u001b[43m \u001b[49m\u001b[43mkwargs\u001b[49m\u001b[43m,\u001b[49m\u001b[43m \u001b[49m\u001b[43mambiguous_fmt_datakey\u001b[49m\u001b[43m=\u001b[49m\u001b[43mambiguous_fmt_datakey\u001b[49m\u001b[43m,\u001b[49m\n\u001b[32m    299\u001b[39m \u001b[43m    \u001b[49m\u001b[43mreturn_kwargs\u001b[49m\u001b[43m=\u001b[49m\u001b[43mreturn_kwargs\u001b[49m\n\u001b[32m    300\u001b[39m \u001b[43m\u001b[49m\u001b[43m)\u001b[49m\n",
      "\u001b[36mFile \u001b[39m\u001b[32mc:\\Users\\josue\\anaconda3\\envs\\bioinformatica_py\\Lib\\site-packages\\matplotlib\\axes\\_base.py:494\u001b[39m, in \u001b[36m_process_plot_var_args._plot_args\u001b[39m\u001b[34m(self, axes, tup, kwargs, return_kwargs, ambiguous_fmt_datakey)\u001b[39m\n\u001b[32m    491\u001b[39m     axes.yaxis.update_units(y)\n\u001b[32m    493\u001b[39m \u001b[38;5;28;01mif\u001b[39;00m x.shape[\u001b[32m0\u001b[39m] != y.shape[\u001b[32m0\u001b[39m]:\n\u001b[32m--> \u001b[39m\u001b[32m494\u001b[39m     \u001b[38;5;28;01mraise\u001b[39;00m \u001b[38;5;167;01mValueError\u001b[39;00m(\u001b[33mf\u001b[39m\u001b[33m\"\u001b[39m\u001b[33mx and y must have same first dimension, but \u001b[39m\u001b[33m\"\u001b[39m\n\u001b[32m    495\u001b[39m                      \u001b[33mf\u001b[39m\u001b[33m\"\u001b[39m\u001b[33mhave shapes \u001b[39m\u001b[38;5;132;01m{\u001b[39;00mx.shape\u001b[38;5;132;01m}\u001b[39;00m\u001b[33m and \u001b[39m\u001b[38;5;132;01m{\u001b[39;00my.shape\u001b[38;5;132;01m}\u001b[39;00m\u001b[33m\"\u001b[39m)\n\u001b[32m    496\u001b[39m \u001b[38;5;28;01mif\u001b[39;00m x.ndim > \u001b[32m2\u001b[39m \u001b[38;5;129;01mor\u001b[39;00m y.ndim > \u001b[32m2\u001b[39m:\n\u001b[32m    497\u001b[39m     \u001b[38;5;28;01mraise\u001b[39;00m \u001b[38;5;167;01mValueError\u001b[39;00m(\u001b[33mf\u001b[39m\u001b[33m\"\u001b[39m\u001b[33mx and y can be no greater than 2D, but have \u001b[39m\u001b[33m\"\u001b[39m\n\u001b[32m    498\u001b[39m                      \u001b[33mf\u001b[39m\u001b[33m\"\u001b[39m\u001b[33mshapes \u001b[39m\u001b[38;5;132;01m{\u001b[39;00mx.shape\u001b[38;5;132;01m}\u001b[39;00m\u001b[33m and \u001b[39m\u001b[38;5;132;01m{\u001b[39;00my.shape\u001b[38;5;132;01m}\u001b[39;00m\u001b[33m\"\u001b[39m)\n",
      "\u001b[31mValueError\u001b[39m: x and y must have same first dimension, but have shapes (100,) and (0,)"
     ]
    },
    {
     "data": {
      "image/png": "[encoded data removed]",
      "text/plain": [
       "<Figure size 640x480 with 1 Axes>"
      ]
     },
     "metadata": {},
     "output_type": "display_data"
    }
   ],
   "source": [
    "plt.close(\"all\")\n",
    "fig, ax = plt.subplots()\n",
    "ax.plot(t, temperature)\n",
    "\n",
    "ax.set(**{\n",
    "    \"title\": \"Temperature\",\n",
    "    \"xlabel\": \"time / ps\",\n",
    "    \"xlim\": (0, 100),\n",
    "    \"ylabel\": \"temperature / K\"\n",
    "    })\n",
    "plt.show()"
   ]
  },
  {
   "cell_type": "code",
   "execution_count": 39,
   "id": "b4c498a3",
   "metadata": {},
   "outputs": [],
   "source": [
    "simulation.saveState(\"eq.xml\")"
   ]
  },
  {
   "cell_type": "code",
   "execution_count": 40,
   "id": "24541303",
   "metadata": {},
   "outputs": [],
   "source": [
    "simulation.loadState(\"eq.xml\")"
   ]
  },
  {
   "cell_type": "code",
   "execution_count": null,
   "id": "c65181a3",
   "metadata": {},
   "outputs": [],
   "source": []
  }
 ],
 "metadata": {
  "kernelspec": {
   "display_name": "bioinformatica_py",
   "language": "python",
   "name": "python3"
  },
  "language_info": {
   "codemirror_mode": {
    "name": "ipython",
    "version": 3
   },
   "file_extension": ".py",
   "mimetype": "text/x-python",
   "name": "python",
   "nbconvert_exporter": "python",
   "pygments_lexer": "ipython3",
   "version": "3.12.9"
  }
 },
 "nbformat": 4,
 "nbformat_minor": 5
}
